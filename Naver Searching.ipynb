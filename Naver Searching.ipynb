{
 "cells": [
  {
   "cell_type": "code",
   "execution_count": 33,
   "metadata": {},
   "outputs": [
    {
     "name": "stdout",
     "output_type": "stream",
     "text": [
      "라면 끓일 때 국물이 없어지는 이유..: https://kin.naver.com/qna/detail.nhn?d1id=8&dirId=8020103&docId=347732299&qb=652866m0IOuBk+ydvCDrlYw=&enc=utf8&section=kin&rank=1&search_sort=0&spq=0\n",
      "라면 끓일 때 김치국물 넣으면: https://kin.naver.com/qna/detail.nhn?d1id=8&dirId=8020112&docId=330066682&qb=652866m0IOuBk+ydvCDrlYw=&enc=utf8&section=kin&rank=2&search_sort=0&spq=0\n",
      "라면 끓일때 소시지: https://kin.naver.com/qna/detail.nhn?d1id=8&dirId=8020107&docId=337621386&qb=652866m0IOuBk+ydvCDrlYw=&enc=utf8&section=kin&rank=3&search_sort=0&spq=0\n",
      "라면 끓일때 수프넣는 시간: https://kin.naver.com/qna/detail.nhn?d1id=8&dirId=8020102&docId=333055590&qb=652866m0IOuBk+ydvCDrlYw=&enc=utf8&section=kin&rank=4&search_sort=0&spq=0\n",
      "라면끓일때 스프를먼저넣을까요 면을먼저 넣을까요?: https://kin.naver.com/qna/detail.nhn?d1id=8&dirId=8020102&docId=340357101&qb=652866m0IOuBk+ydvCDrlYw=&enc=utf8&section=kin&rank=5&search_sort=0&spq=0\n",
      "라면 끓일 때 공기 넣는것: https://kin.naver.com/qna/detail.nhn?d1id=8&dirId=8020102&docId=328719425&qb=652866m0IOuBk+ydvCDrlYw=&enc=utf8&section=kin&rank=6&search_sort=0&spq=0\n",
      "라면끓일때 물에 분말스프넣으면 물이: https://kin.naver.com/qna/detail.nhn?d1id=5&dirId=50502&docId=329163996&qb=652866m0IOuBk+ydvCDrlYw=&enc=utf8&section=kin&rank=7&search_sort=0&spq=0\n",
      "라면 끓일때: https://kin.naver.com/qna/detail.nhn?d1id=8&dirId=8020102&docId=332740061&qb=652866m0IOuBk+ydvCDrlYw=&enc=utf8&section=kin&rank=8&search_sort=0&spq=0\n",
      "라면끓일때계란비린내안나게하려면: https://kin.naver.com/qna/detail.nhn?d1id=8&dirId=8020102&docId=336861439&qb=652866m0IOuBk+ydvCDrlYw=&enc=utf8&section=kin&rank=9&search_sort=0&spq=0\n",
      "라면끓일때뭐부터 넣어야되요???: https://kin.naver.com/qna/detail.nhn?d1id=13&dirId=130107&docId=39320734&qb=652866m0IOuBk+ydvCDrlYw=&enc=utf8&section=kin&rank=10&search_sort=0&spq=0\n"
     ]
    }
   ],
   "source": [
    "#연습\n",
    "#1. naver.com 접속\n",
    "#2. 검색어 입력\n",
    "#3. 검색 버튼 클릭\n",
    "#4. 검색 결과의 소스 확인 출력.\n",
    "\n",
    "#pip install selenium\n",
    "#chrome driver 설치\n",
    "\n",
    "from selenium import webdriver\n",
    "from bs4 import BeautifulSoup\n",
    "\n",
    "driver = webdriver.Chrome(\"chromedriver.exe\")\n",
    "\n",
    "driver.get(\"http://www.naver.com\")\n",
    "driver.implicitly_wait(3)\n",
    "\n",
    "input_query = driver.find_element_by_css_selector(\"#query\")\n",
    "input_query.send_keys(\"라면 끓일 때\")\n",
    "\n",
    "search_btn = driver.find_element_by_css_selector(\"#search_btn\")\n",
    "search_btn.click()\n",
    "\n",
    "jisikin_btn = driver.find_element_by_css_selector(\"li.lnb5>a\")\n",
    "jisikin_btn.click()\n",
    "\n",
    "html =driver.page_source\n",
    "soup = BeautifulSoup(html, 'html.parser')\n",
    "jlist = soup.select(\"ul.type01>li\")\n",
    "\n",
    "jis = [];\n",
    "\n",
    "for ji in jlist:\n",
    "    titles = ji.select(\"dl>dt.question>a\")[0]\n",
    "    #print(titles.text.strip(), titles['href'])\n",
    "    jis.append({\"title\":titles.text.strip(), \"link\": titles['href']})\n",
    "    \n",
    "for ji in jis:\n",
    "   print(\"{title}: {link}\".format_map(ji));\n"
   ]
  },
  {
   "cell_type": "code",
   "execution_count": null,
   "metadata": {},
   "outputs": [],
   "source": []
  }
 ],
 "metadata": {
  "kernelspec": {
   "display_name": "Python 3",
   "language": "python",
   "name": "python3"
  },
  "language_info": {
   "codemirror_mode": {
    "name": "ipython",
    "version": 3
   },
   "file_extension": ".py",
   "mimetype": "text/x-python",
   "name": "python",
   "nbconvert_exporter": "python",
   "pygments_lexer": "ipython3",
   "version": "3.7.7"
  }
 },
 "nbformat": 4,
 "nbformat_minor": 4
}
