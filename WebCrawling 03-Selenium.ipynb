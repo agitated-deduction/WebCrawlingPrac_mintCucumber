{
 "cells": [
  {
   "cell_type": "code",
   "execution_count": 5,
   "metadata": {},
   "outputs": [],
   "source": [
    "from selenium import webdriver\n",
    "driver = webdriver.Chrome(\"chromedriver.exe\")\n",
    "\n",
    "driver.get(\"http://www.naver.com\")\n",
    "driver.implicitly_wait(3)\n",
    "\n",
    "driver.page_source\n",
    "\n",
    "btn_login = driver.find_element_by_css_selector(\"#account>a\")\n",
    "btn_login\n",
    "\n",
    "btn_login.click()\n",
    "\n",
    "input_id = driver.find_element_by_css_selector(\"#id\")\n",
    "input_id.send_keys(\"id\")\n",
    "input_pw = driver.find_element_by_css_selector(\"#pw\")\n",
    "input_pw.send_keys(\"pw\")\n",
    "\n"
   ]
  },
  {
   "cell_type": "code",
   "execution_count": null,
   "metadata": {},
   "outputs": [],
   "source": [
    "#연습\n",
    "#1. naver.com 접속\n",
    "#2. 검색어 입력\n",
    "#3. 검색 버튼 클릭\n",
    "#4. 검색 결과의 소스 확인 출력."
   ]
  }
 ],
 "metadata": {
  "kernelspec": {
   "display_name": "Python 3",
   "language": "python",
   "name": "python3"
  },
  "language_info": {
   "codemirror_mode": {
    "name": "ipython",
    "version": 3
   },
   "file_extension": ".py",
   "mimetype": "text/x-python",
   "name": "python",
   "nbconvert_exporter": "python",
   "pygments_lexer": "ipython3",
   "version": "3.7.7"
  }
 },
 "nbformat": 4,
 "nbformat_minor": 4
}
